{
  "nbformat": 4,
  "nbformat_minor": 0,
  "metadata": {
    "colab": {
      "provenance": [],
      "authorship_tag": "ABX9TyOK5/yz+vscVyt4+HhFMsSB",
      "include_colab_link": true
    },
    "kernelspec": {
      "name": "python3",
      "display_name": "Python 3"
    },
    "language_info": {
      "name": "python"
    }
  },
  "cells": [
    {
      "cell_type": "markdown",
      "metadata": {
        "id": "view-in-github",
        "colab_type": "text"
      },
      "source": [
        "<a href=\"https://colab.research.google.com/github/krutarth-dev/Comparing-CNN-Architectures-for-MNIST-Classification/blob/main/MNIST_Classification.ipynb\" target=\"_parent\"><img src=\"https://colab.research.google.com/assets/colab-badge.svg\" alt=\"Open In Colab\"/></a>"
      ]
    },
    {
      "cell_type": "code",
      "execution_count": 1,
      "metadata": {
        "colab": {
          "base_uri": "https://localhost:8080/"
        },
        "id": "pA_23fIxPYzV",
        "outputId": "78202bc6-8cb6-4645-8475-21cdb4e0f35d"
      },
      "outputs": [
        {
          "output_type": "stream",
          "name": "stdout",
          "text": [
            "Downloading data from https://storage.googleapis.com/tensorflow/tf-keras-datasets/mnist.npz\n",
            "11490434/11490434 [==============================] - 0s 0us/step\n"
          ]
        }
      ],
      "source": [
        "import tensorflow as tf\n",
        "from tensorflow.keras.datasets import mnist\n",
        "from tensorflow.keras.models import Sequential\n",
        "from tensorflow.keras.layers import Conv2D, MaxPooling2D, Flatten, Dense\n",
        "from tensorflow.keras.utils import to_categorical\n",
        "\n",
        "# Load the MNIST dataset\n",
        "(x_train, y_train), (x_test, y_test) = mnist.load_data()\n",
        "\n",
        "# Preprocess the data\n",
        "x_train = x_train.reshape(-1, 28, 28, 1) / 255.0\n",
        "x_test = x_test.reshape(-1, 28, 28, 1) / 255.0\n",
        "y_train = to_categorical(y_train)\n",
        "y_test = to_categorical(y_test)\n"
      ]
    },
    {
      "cell_type": "code",
      "source": [
        "# Define the model\n",
        "model1 = Sequential([\n",
        "    Conv2D(32, (3, 3), activation='relu', input_shape=(28, 28, 1)),\n",
        "    MaxPooling2D((2, 2)),\n",
        "    Flatten(),\n",
        "    Dense(128, activation='relu'),\n",
        "    Dense(10, activation='softmax')\n",
        "])\n",
        "\n",
        "# Compile the model\n",
        "model1.compile(optimizer='adam', loss='categorical_crossentropy', metrics=['accuracy'])\n",
        "\n",
        "# Train the model\n",
        "model1.fit(x_train, y_train, epochs=10, batch_size=128, validation_data=(x_test, y_test))\n"
      ],
      "metadata": {
        "colab": {
          "base_uri": "https://localhost:8080/"
        },
        "id": "7dJw5Z9KPj0q",
        "outputId": "2295878e-52ee-451e-b4c6-5165ded31597"
      },
      "execution_count": 2,
      "outputs": [
        {
          "output_type": "stream",
          "name": "stdout",
          "text": [
            "Epoch 1/10\n",
            "469/469 [==============================] - 37s 76ms/step - loss: 0.2149 - accuracy: 0.9381 - val_loss: 0.0806 - val_accuracy: 0.9766\n",
            "Epoch 2/10\n",
            "469/469 [==============================] - 35s 74ms/step - loss: 0.0646 - accuracy: 0.9808 - val_loss: 0.0477 - val_accuracy: 0.9840\n",
            "Epoch 3/10\n",
            "469/469 [==============================] - 33s 71ms/step - loss: 0.0434 - accuracy: 0.9870 - val_loss: 0.0457 - val_accuracy: 0.9844\n",
            "Epoch 4/10\n",
            "469/469 [==============================] - 33s 71ms/step - loss: 0.0317 - accuracy: 0.9905 - val_loss: 0.0442 - val_accuracy: 0.9852\n",
            "Epoch 5/10\n",
            "469/469 [==============================] - 35s 75ms/step - loss: 0.0238 - accuracy: 0.9929 - val_loss: 0.0389 - val_accuracy: 0.9862\n",
            "Epoch 6/10\n",
            "469/469 [==============================] - 34s 72ms/step - loss: 0.0174 - accuracy: 0.9948 - val_loss: 0.0449 - val_accuracy: 0.9854\n",
            "Epoch 7/10\n",
            "469/469 [==============================] - 34s 72ms/step - loss: 0.0132 - accuracy: 0.9961 - val_loss: 0.0453 - val_accuracy: 0.9867\n",
            "Epoch 8/10\n",
            "469/469 [==============================] - 34s 72ms/step - loss: 0.0100 - accuracy: 0.9969 - val_loss: 0.0506 - val_accuracy: 0.9848\n",
            "Epoch 9/10\n",
            "469/469 [==============================] - 33s 70ms/step - loss: 0.0088 - accuracy: 0.9974 - val_loss: 0.0463 - val_accuracy: 0.9858\n",
            "Epoch 10/10\n",
            "469/469 [==============================] - 34s 73ms/step - loss: 0.0059 - accuracy: 0.9984 - val_loss: 0.0419 - val_accuracy: 0.9869\n"
          ]
        },
        {
          "output_type": "execute_result",
          "data": {
            "text/plain": [
              "<keras.callbacks.History at 0x7ffb11e41480>"
            ]
          },
          "metadata": {},
          "execution_count": 2
        }
      ]
    },
    {
      "cell_type": "code",
      "source": [
        "# Define the model\n",
        "model2 = Sequential([\n",
        "    Conv2D(16, (3, 3), activation='relu', input_shape=(28, 28, 1)),\n",
        "    MaxPooling2D((2, 2)),\n",
        "    Conv2D(32, (3, 3), activation='relu'),\n",
        "    MaxPooling2D((2, 2)),\n",
        "    Flatten(),\n",
        "    Dense(128, activation='relu'),\n",
        "    Dense(10, activation='softmax')\n",
        "])\n",
        "\n",
        "# Compile the model\n",
        "model2.compile(optimizer='adam', loss='categorical_crossentropy', metrics=['accuracy'])\n",
        "\n",
        "# Train the model\n",
        "model2.fit(x_train, y_train, epochs=10, batch_size=128, validation_data=(x_test, y_test))\n"
      ],
      "metadata": {
        "colab": {
          "base_uri": "https://localhost:8080/"
        },
        "id": "JHzbyYpFRQyX",
        "outputId": "bf8776ea-71cc-4c6c-a669-464b8e5cdb7c"
      },
      "execution_count": 3,
      "outputs": [
        {
          "output_type": "stream",
          "name": "stdout",
          "text": [
            "Epoch 1/10\n",
            "469/469 [==============================] - 32s 65ms/step - loss: 0.2520 - accuracy: 0.9291 - val_loss: 0.0676 - val_accuracy: 0.9789\n",
            "Epoch 2/10\n",
            "469/469 [==============================] - 31s 65ms/step - loss: 0.0687 - accuracy: 0.9791 - val_loss: 0.0509 - val_accuracy: 0.9839\n",
            "Epoch 3/10\n",
            "469/469 [==============================] - 31s 66ms/step - loss: 0.0497 - accuracy: 0.9845 - val_loss: 0.0367 - val_accuracy: 0.9864\n",
            "Epoch 4/10\n",
            "469/469 [==============================] - 31s 67ms/step - loss: 0.0380 - accuracy: 0.9881 - val_loss: 0.0397 - val_accuracy: 0.9862\n",
            "Epoch 5/10\n",
            "469/469 [==============================] - 31s 67ms/step - loss: 0.0313 - accuracy: 0.9900 - val_loss: 0.0293 - val_accuracy: 0.9896\n",
            "Epoch 6/10\n",
            "469/469 [==============================] - 32s 67ms/step - loss: 0.0258 - accuracy: 0.9919 - val_loss: 0.0318 - val_accuracy: 0.9897\n",
            "Epoch 7/10\n",
            "469/469 [==============================] - 30s 65ms/step - loss: 0.0217 - accuracy: 0.9930 - val_loss: 0.0315 - val_accuracy: 0.9904\n",
            "Epoch 8/10\n",
            "469/469 [==============================] - 33s 70ms/step - loss: 0.0179 - accuracy: 0.9940 - val_loss: 0.0333 - val_accuracy: 0.9896\n",
            "Epoch 9/10\n",
            "469/469 [==============================] - 32s 67ms/step - loss: 0.0150 - accuracy: 0.9953 - val_loss: 0.0390 - val_accuracy: 0.9886\n",
            "Epoch 10/10\n",
            "469/469 [==============================] - 32s 68ms/step - loss: 0.0130 - accuracy: 0.9960 - val_loss: 0.0370 - val_accuracy: 0.9884\n"
          ]
        },
        {
          "output_type": "execute_result",
          "data": {
            "text/plain": [
              "<keras.callbacks.History at 0x7ffaf4832cb0>"
            ]
          },
          "metadata": {},
          "execution_count": 3
        }
      ]
    },
    {
      "cell_type": "code",
      "source": [
        "# Define the model\n",
        "model3 = Sequential([\n",
        "    Conv2D(8, (3, 3), activation='relu', input_shape=(28, 28, 1)),\n",
        "    MaxPooling2D((2, 2)),\n",
        "    Conv2D(16, (3, 3), activation='relu'),\n",
        "    MaxPooling2D((2, 2)),\n",
        "    Conv2D(32, (3, 3), activation='relu'),\n",
        "    MaxPooling2D((2, 2)),\n",
        "    Flatten(),\n",
        "    Dense(64, activation='relu'),\n",
        "    Dense(10, activation='softmax')\n",
        "])\n",
        "\n",
        "# Compile the model\n",
        "model3.compile(optimizer='adam', loss='categorical_crossentropy', metrics=['accuracy'])\n",
        "\n",
        "# Train the model\n",
        "model3.fit(x_train, y_train, epochs=10, batch_size=128, validation_data=(x_test, y_test))\n"
      ],
      "metadata": {
        "colab": {
          "base_uri": "https://localhost:8080/"
        },
        "id": "JsnG4kvdSn8y",
        "outputId": "077d0432-99c6-42b2-e915-1e02e74016f2"
      },
      "execution_count": 4,
      "outputs": [
        {
          "output_type": "stream",
          "name": "stdout",
          "text": [
            "Epoch 1/10\n",
            "469/469 [==============================] - 23s 48ms/step - loss: 0.5499 - accuracy: 0.8366 - val_loss: 0.1968 - val_accuracy: 0.9345\n",
            "Epoch 2/10\n",
            "469/469 [==============================] - 21s 44ms/step - loss: 0.1699 - accuracy: 0.9477 - val_loss: 0.1347 - val_accuracy: 0.9572\n",
            "Epoch 3/10\n",
            "469/469 [==============================] - 22s 47ms/step - loss: 0.1305 - accuracy: 0.9599 - val_loss: 0.1026 - val_accuracy: 0.9677\n",
            "Epoch 4/10\n",
            "469/469 [==============================] - 22s 46ms/step - loss: 0.1103 - accuracy: 0.9660 - val_loss: 0.0948 - val_accuracy: 0.9698\n",
            "Epoch 5/10\n",
            "469/469 [==============================] - 20s 43ms/step - loss: 0.0960 - accuracy: 0.9706 - val_loss: 0.0871 - val_accuracy: 0.9735\n",
            "Epoch 6/10\n",
            "469/469 [==============================] - 22s 46ms/step - loss: 0.0878 - accuracy: 0.9730 - val_loss: 0.0838 - val_accuracy: 0.9748\n",
            "Epoch 7/10\n",
            "469/469 [==============================] - 20s 43ms/step - loss: 0.0805 - accuracy: 0.9750 - val_loss: 0.0810 - val_accuracy: 0.9749\n",
            "Epoch 8/10\n",
            "469/469 [==============================] - 22s 46ms/step - loss: 0.0740 - accuracy: 0.9771 - val_loss: 0.0768 - val_accuracy: 0.9753\n",
            "Epoch 9/10\n",
            "469/469 [==============================] - 22s 47ms/step - loss: 0.0679 - accuracy: 0.9794 - val_loss: 0.0838 - val_accuracy: 0.9737\n",
            "Epoch 10/10\n",
            "469/469 [==============================] - 22s 46ms/step - loss: 0.0648 - accuracy: 0.9794 - val_loss: 0.0709 - val_accuracy: 0.9777\n"
          ]
        },
        {
          "output_type": "execute_result",
          "data": {
            "text/plain": [
              "<keras.callbacks.History at 0x7ffb1254b250>"
            ]
          },
          "metadata": {},
          "execution_count": 4
        }
      ]
    },
    {
      "cell_type": "code",
      "source": [
        "# Evaluate model1\n",
        "_, accuracy1 = model1.evaluate(x_test, y_test)\n",
        "print(f\"Model 1 Accuracy: {accuracy1 * 100:.2f}%\")\n",
        "\n",
        "# Evaluate model2\n",
        "_, accuracy2 = model2.evaluate(x_test, y_test)\n",
        "print(f\"Model 2 Accuracy: {accuracy2 * 100:.2f}%\")\n",
        "\n",
        "# Evaluate model3\n",
        "_, accuracy3 = model3.evaluate(x_test, y_test)\n",
        "print(f\"Model 3 Accuracy: {accuracy3 * 100:.2f}%\")\n"
      ],
      "metadata": {
        "colab": {
          "base_uri": "https://localhost:8080/"
        },
        "id": "UqkzJgR4Tskd",
        "outputId": "df31c5bc-9d95-4df9-ba7c-48e9913d5767"
      },
      "execution_count": 5,
      "outputs": [
        {
          "output_type": "stream",
          "name": "stdout",
          "text": [
            "313/313 [==============================] - 2s 7ms/step - loss: 0.0419 - accuracy: 0.9869\n",
            "Model 1 Accuracy: 98.69%\n",
            "313/313 [==============================] - 3s 10ms/step - loss: 0.0370 - accuracy: 0.9884\n",
            "Model 2 Accuracy: 98.84%\n",
            "313/313 [==============================] - 2s 6ms/step - loss: 0.0709 - accuracy: 0.9777\n",
            "Model 3 Accuracy: 97.77%\n"
          ]
        }
      ]
    },
    {
      "cell_type": "code",
      "source": [
        "import pandas as pd\n",
        "\n",
        "data = {\n",
        "    'Model': ['Architecture 1', 'Architecture 2', 'Architecture 3'],\n",
        "    'Accuracy': [accuracy1 * 100, accuracy2 * 100, accuracy3 * 100]\n",
        "}\n",
        "\n",
        "comparison_table = pd.DataFrame(data)\n",
        "print(comparison_table)\n"
      ],
      "metadata": {
        "colab": {
          "base_uri": "https://localhost:8080/"
        },
        "id": "FrnTpzrXTxPa",
        "outputId": "2481f732-7328-4d35-f75f-14b46613a3a4"
      },
      "execution_count": 6,
      "outputs": [
        {
          "output_type": "stream",
          "name": "stdout",
          "text": [
            "            Model   Accuracy\n",
            "0  Architecture 1  98.689997\n",
            "1  Architecture 2  98.839998\n",
            "2  Architecture 3  97.770000\n"
          ]
        }
      ]
    }
  ]
}